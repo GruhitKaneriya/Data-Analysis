{
 "cells": [
  {
   "cell_type": "markdown",
   "id": "06163d87-f52f-4910-af7c-4ceb24d7deae",
   "metadata": {},
   "source": [
    "# Student Data Exploratory Data Analysis"
   ]
  },
  {
   "cell_type": "markdown",
   "id": "97836ed3-753f-41ca-a333-6752cc6ca63d",
   "metadata": {},
   "source": [
    "## Import Necessary Libraries"
   ]
  },
  {
   "cell_type": "code",
   "execution_count": 8,
   "id": "4869b6e6-edb7-45c0-946f-57acfdf57e73",
   "metadata": {},
   "outputs": [],
   "source": [
    "import pandas as pd\n",
    "import numpy as np\n",
    "import matplotlib.pyplot as plt"
   ]
  },
  {
   "cell_type": "markdown",
   "id": "df783c7b-f6f8-411a-8006-0b5230203f08",
   "metadata": {},
   "source": [
    "## Read Data "
   ]
  },
  {
   "cell_type": "code",
   "execution_count": 2,
   "id": "43ee5375-994d-4eee-9336-6dc4e74e544d",
   "metadata": {},
   "outputs": [],
   "source": [
    "data = pd.read_csv('student_extended_ml_dataset2.csv')"
   ]
  },
  {
   "cell_type": "markdown",
   "id": "0248dda6-7665-4c66-8a2e-ca7871fc4b43",
   "metadata": {},
   "source": [
    "### Check wether data is loaded or not"
   ]
  },
  {
   "cell_type": "code",
   "execution_count": 3,
   "id": "332a19c0-cd76-4311-a001-2b70d31ee064",
   "metadata": {},
   "outputs": [
    {
     "data": {
      "text/html": [
       "<div>\n",
       "<style scoped>\n",
       "    .dataframe tbody tr th:only-of-type {\n",
       "        vertical-align: middle;\n",
       "    }\n",
       "\n",
       "    .dataframe tbody tr th {\n",
       "        vertical-align: top;\n",
       "    }\n",
       "\n",
       "    .dataframe thead th {\n",
       "        text-align: right;\n",
       "    }\n",
       "</style>\n",
       "<table border=\"1\" class=\"dataframe\">\n",
       "  <thead>\n",
       "    <tr style=\"text-align: right;\">\n",
       "      <th></th>\n",
       "      <th>Name</th>\n",
       "      <th>Age</th>\n",
       "      <th>Gender</th>\n",
       "      <th>Hours_Studied</th>\n",
       "      <th>IQ</th>\n",
       "      <th>Physics_Marks</th>\n",
       "      <th>Math_Marks</th>\n",
       "      <th>Chemistry_Marks</th>\n",
       "      <th>Has_Part_Time_Job</th>\n",
       "      <th>Study_Hours_Group</th>\n",
       "    </tr>\n",
       "  </thead>\n",
       "  <tbody>\n",
       "    <tr>\n",
       "      <th>0</th>\n",
       "      <td>Jason Vargas</td>\n",
       "      <td>19</td>\n",
       "      <td>Male</td>\n",
       "      <td>8.140821</td>\n",
       "      <td>92</td>\n",
       "      <td>87</td>\n",
       "      <td>43</td>\n",
       "      <td>85</td>\n",
       "      <td>True</td>\n",
       "      <td>High</td>\n",
       "    </tr>\n",
       "    <tr>\n",
       "      <th>1</th>\n",
       "      <td>Sandra Wiggins</td>\n",
       "      <td>35</td>\n",
       "      <td>Female</td>\n",
       "      <td>9.825626</td>\n",
       "      <td>112</td>\n",
       "      <td>86</td>\n",
       "      <td>81</td>\n",
       "      <td>54</td>\n",
       "      <td>False</td>\n",
       "      <td>High</td>\n",
       "    </tr>\n",
       "    <tr>\n",
       "      <th>2</th>\n",
       "      <td>Julia Olsen</td>\n",
       "      <td>33</td>\n",
       "      <td>Male</td>\n",
       "      <td>8.835372</td>\n",
       "      <td>131</td>\n",
       "      <td>87</td>\n",
       "      <td>52</td>\n",
       "      <td>57</td>\n",
       "      <td>True</td>\n",
       "      <td>High</td>\n",
       "    </tr>\n",
       "    <tr>\n",
       "      <th>3</th>\n",
       "      <td>Robert Pennington</td>\n",
       "      <td>33</td>\n",
       "      <td>Male</td>\n",
       "      <td>2.482483</td>\n",
       "      <td>138</td>\n",
       "      <td>70</td>\n",
       "      <td>86</td>\n",
       "      <td>83</td>\n",
       "      <td>False</td>\n",
       "      <td>Low</td>\n",
       "    </tr>\n",
       "    <tr>\n",
       "      <th>4</th>\n",
       "      <td>Kayla Sellers</td>\n",
       "      <td>28</td>\n",
       "      <td>Female</td>\n",
       "      <td>4.419793</td>\n",
       "      <td>90</td>\n",
       "      <td>95</td>\n",
       "      <td>48</td>\n",
       "      <td>83</td>\n",
       "      <td>True</td>\n",
       "      <td>Low</td>\n",
       "    </tr>\n",
       "  </tbody>\n",
       "</table>\n",
       "</div>"
      ],
      "text/plain": [
       "                Name  Age  Gender  Hours_Studied   IQ  Physics_Marks  \\\n",
       "0       Jason Vargas   19    Male       8.140821   92             87   \n",
       "1     Sandra Wiggins   35  Female       9.825626  112             86   \n",
       "2        Julia Olsen   33    Male       8.835372  131             87   \n",
       "3  Robert Pennington   33    Male       2.482483  138             70   \n",
       "4      Kayla Sellers   28  Female       4.419793   90             95   \n",
       "\n",
       "   Math_Marks  Chemistry_Marks  Has_Part_Time_Job Study_Hours_Group  \n",
       "0          43               85               True              High  \n",
       "1          81               54              False              High  \n",
       "2          52               57               True              High  \n",
       "3          86               83              False               Low  \n",
       "4          48               83               True               Low  "
      ]
     },
     "execution_count": 3,
     "metadata": {},
     "output_type": "execute_result"
    }
   ],
   "source": [
    "data.head()"
   ]
  },
  {
   "cell_type": "markdown",
   "id": "9198c0d8-4a70-4b1b-8019-1702a43a937f",
   "metadata": {},
   "source": [
    "## Explore Data"
   ]
  },
  {
   "cell_type": "code",
   "execution_count": 4,
   "id": "6bf333e5-036c-407a-afa1-09dbdcaa7693",
   "metadata": {},
   "outputs": [
    {
     "data": {
      "text/html": [
       "<div>\n",
       "<style scoped>\n",
       "    .dataframe tbody tr th:only-of-type {\n",
       "        vertical-align: middle;\n",
       "    }\n",
       "\n",
       "    .dataframe tbody tr th {\n",
       "        vertical-align: top;\n",
       "    }\n",
       "\n",
       "    .dataframe thead th {\n",
       "        text-align: right;\n",
       "    }\n",
       "</style>\n",
       "<table border=\"1\" class=\"dataframe\">\n",
       "  <thead>\n",
       "    <tr style=\"text-align: right;\">\n",
       "      <th></th>\n",
       "      <th>Age</th>\n",
       "      <th>Hours_Studied</th>\n",
       "      <th>IQ</th>\n",
       "      <th>Physics_Marks</th>\n",
       "      <th>Math_Marks</th>\n",
       "      <th>Chemistry_Marks</th>\n",
       "    </tr>\n",
       "  </thead>\n",
       "  <tbody>\n",
       "    <tr>\n",
       "      <th>count</th>\n",
       "      <td>5000.000000</td>\n",
       "      <td>5000.000000</td>\n",
       "      <td>5000.000000</td>\n",
       "      <td>5000.000000</td>\n",
       "      <td>5000.000000</td>\n",
       "      <td>5000.000000</td>\n",
       "    </tr>\n",
       "    <tr>\n",
       "      <th>mean</th>\n",
       "      <td>31.444800</td>\n",
       "      <td>5.499279</td>\n",
       "      <td>114.915200</td>\n",
       "      <td>70.311000</td>\n",
       "      <td>69.816000</td>\n",
       "      <td>69.798800</td>\n",
       "    </tr>\n",
       "    <tr>\n",
       "      <th>std</th>\n",
       "      <td>8.148388</td>\n",
       "      <td>2.588333</td>\n",
       "      <td>20.551839</td>\n",
       "      <td>17.753538</td>\n",
       "      <td>17.536626</td>\n",
       "      <td>17.487913</td>\n",
       "    </tr>\n",
       "    <tr>\n",
       "      <th>min</th>\n",
       "      <td>18.000000</td>\n",
       "      <td>1.002452</td>\n",
       "      <td>80.000000</td>\n",
       "      <td>40.000000</td>\n",
       "      <td>40.000000</td>\n",
       "      <td>40.000000</td>\n",
       "    </tr>\n",
       "    <tr>\n",
       "      <th>25%</th>\n",
       "      <td>24.000000</td>\n",
       "      <td>3.258910</td>\n",
       "      <td>97.000000</td>\n",
       "      <td>55.000000</td>\n",
       "      <td>54.000000</td>\n",
       "      <td>55.000000</td>\n",
       "    </tr>\n",
       "    <tr>\n",
       "      <th>50%</th>\n",
       "      <td>32.000000</td>\n",
       "      <td>5.474256</td>\n",
       "      <td>115.000000</td>\n",
       "      <td>71.000000</td>\n",
       "      <td>70.000000</td>\n",
       "      <td>70.000000</td>\n",
       "    </tr>\n",
       "    <tr>\n",
       "      <th>75%</th>\n",
       "      <td>38.000000</td>\n",
       "      <td>7.726088</td>\n",
       "      <td>133.000000</td>\n",
       "      <td>86.000000</td>\n",
       "      <td>85.000000</td>\n",
       "      <td>85.000000</td>\n",
       "    </tr>\n",
       "    <tr>\n",
       "      <th>max</th>\n",
       "      <td>45.000000</td>\n",
       "      <td>9.999925</td>\n",
       "      <td>150.000000</td>\n",
       "      <td>100.000000</td>\n",
       "      <td>100.000000</td>\n",
       "      <td>100.000000</td>\n",
       "    </tr>\n",
       "  </tbody>\n",
       "</table>\n",
       "</div>"
      ],
      "text/plain": [
       "               Age  Hours_Studied           IQ  Physics_Marks   Math_Marks  \\\n",
       "count  5000.000000    5000.000000  5000.000000    5000.000000  5000.000000   \n",
       "mean     31.444800       5.499279   114.915200      70.311000    69.816000   \n",
       "std       8.148388       2.588333    20.551839      17.753538    17.536626   \n",
       "min      18.000000       1.002452    80.000000      40.000000    40.000000   \n",
       "25%      24.000000       3.258910    97.000000      55.000000    54.000000   \n",
       "50%      32.000000       5.474256   115.000000      71.000000    70.000000   \n",
       "75%      38.000000       7.726088   133.000000      86.000000    85.000000   \n",
       "max      45.000000       9.999925   150.000000     100.000000   100.000000   \n",
       "\n",
       "       Chemistry_Marks  \n",
       "count      5000.000000  \n",
       "mean         69.798800  \n",
       "std          17.487913  \n",
       "min          40.000000  \n",
       "25%          55.000000  \n",
       "50%          70.000000  \n",
       "75%          85.000000  \n",
       "max         100.000000  "
      ]
     },
     "execution_count": 4,
     "metadata": {},
     "output_type": "execute_result"
    }
   ],
   "source": [
    "data.describe()"
   ]
  },
  {
   "cell_type": "code",
   "execution_count": 5,
   "id": "703efea3-5d1c-455c-9fb6-096ec681d70d",
   "metadata": {},
   "outputs": [
    {
     "name": "stdout",
     "output_type": "stream",
     "text": [
      "<class 'pandas.core.frame.DataFrame'>\n",
      "RangeIndex: 5000 entries, 0 to 4999\n",
      "Data columns (total 10 columns):\n",
      " #   Column             Non-Null Count  Dtype  \n",
      "---  ------             --------------  -----  \n",
      " 0   Name               5000 non-null   object \n",
      " 1   Age                5000 non-null   int64  \n",
      " 2   Gender             5000 non-null   object \n",
      " 3   Hours_Studied      5000 non-null   float64\n",
      " 4   IQ                 5000 non-null   int64  \n",
      " 5   Physics_Marks      5000 non-null   int64  \n",
      " 6   Math_Marks         5000 non-null   int64  \n",
      " 7   Chemistry_Marks    5000 non-null   int64  \n",
      " 8   Has_Part_Time_Job  5000 non-null   bool   \n",
      " 9   Study_Hours_Group  5000 non-null   object \n",
      "dtypes: bool(1), float64(1), int64(5), object(3)\n",
      "memory usage: 356.6+ KB\n"
     ]
    }
   ],
   "source": [
    "data.info()"
   ]
  },
  {
   "cell_type": "code",
   "execution_count": 6,
   "id": "c32af38b-fe24-4c1b-a94d-30c99d8ec215",
   "metadata": {},
   "outputs": [
    {
     "data": {
      "text/plain": [
       "Index(['Name', 'Age', 'Gender', 'Hours_Studied', 'IQ', 'Physics_Marks',\n",
       "       'Math_Marks', 'Chemistry_Marks', 'Has_Part_Time_Job',\n",
       "       'Study_Hours_Group'],\n",
       "      dtype='object')"
      ]
     },
     "execution_count": 6,
     "metadata": {},
     "output_type": "execute_result"
    }
   ],
   "source": [
    "data.columns"
   ]
  },
  {
   "cell_type": "markdown",
   "id": "cf41686f-6099-41f5-9958-8fc28f1e0d50",
   "metadata": {},
   "source": [
    "### I want to add a new column which is missing is Total Marks of all three subject."
   ]
  },
  {
   "cell_type": "code",
   "execution_count": 24,
   "id": "4ff9ad3d-e4e9-4d30-9a3a-d6aeb2c0a898",
   "metadata": {},
   "outputs": [],
   "source": [
    "data['Total_Marks'] = data['Math_Marks'] + data['Physics_Marks'] + data['Chemistry_Marks']"
   ]
  },
  {
   "cell_type": "code",
   "execution_count": 25,
   "id": "5dde2d43-30ff-4815-8640-6af462511d55",
   "metadata": {},
   "outputs": [
    {
     "data": {
      "text/html": [
       "<div>\n",
       "<style scoped>\n",
       "    .dataframe tbody tr th:only-of-type {\n",
       "        vertical-align: middle;\n",
       "    }\n",
       "\n",
       "    .dataframe tbody tr th {\n",
       "        vertical-align: top;\n",
       "    }\n",
       "\n",
       "    .dataframe thead th {\n",
       "        text-align: right;\n",
       "    }\n",
       "</style>\n",
       "<table border=\"1\" class=\"dataframe\">\n",
       "  <thead>\n",
       "    <tr style=\"text-align: right;\">\n",
       "      <th></th>\n",
       "      <th>Name</th>\n",
       "      <th>Age</th>\n",
       "      <th>Gender</th>\n",
       "      <th>Hours_Studied</th>\n",
       "      <th>IQ</th>\n",
       "      <th>Physics_Marks</th>\n",
       "      <th>Math_Marks</th>\n",
       "      <th>Chemistry_Marks</th>\n",
       "      <th>Has_Part_Time_Job</th>\n",
       "      <th>Study_Hours_Group</th>\n",
       "      <th>Total_Marks</th>\n",
       "    </tr>\n",
       "  </thead>\n",
       "  <tbody>\n",
       "    <tr>\n",
       "      <th>0</th>\n",
       "      <td>Jason Vargas</td>\n",
       "      <td>19</td>\n",
       "      <td>Male</td>\n",
       "      <td>8.140821</td>\n",
       "      <td>92</td>\n",
       "      <td>87</td>\n",
       "      <td>43</td>\n",
       "      <td>85</td>\n",
       "      <td>True</td>\n",
       "      <td>High</td>\n",
       "      <td>215</td>\n",
       "    </tr>\n",
       "    <tr>\n",
       "      <th>1</th>\n",
       "      <td>Sandra Wiggins</td>\n",
       "      <td>35</td>\n",
       "      <td>Female</td>\n",
       "      <td>9.825626</td>\n",
       "      <td>112</td>\n",
       "      <td>86</td>\n",
       "      <td>81</td>\n",
       "      <td>54</td>\n",
       "      <td>False</td>\n",
       "      <td>High</td>\n",
       "      <td>221</td>\n",
       "    </tr>\n",
       "    <tr>\n",
       "      <th>2</th>\n",
       "      <td>Julia Olsen</td>\n",
       "      <td>33</td>\n",
       "      <td>Male</td>\n",
       "      <td>8.835372</td>\n",
       "      <td>131</td>\n",
       "      <td>87</td>\n",
       "      <td>52</td>\n",
       "      <td>57</td>\n",
       "      <td>True</td>\n",
       "      <td>High</td>\n",
       "      <td>196</td>\n",
       "    </tr>\n",
       "    <tr>\n",
       "      <th>3</th>\n",
       "      <td>Robert Pennington</td>\n",
       "      <td>33</td>\n",
       "      <td>Male</td>\n",
       "      <td>2.482483</td>\n",
       "      <td>138</td>\n",
       "      <td>70</td>\n",
       "      <td>86</td>\n",
       "      <td>83</td>\n",
       "      <td>False</td>\n",
       "      <td>Low</td>\n",
       "      <td>239</td>\n",
       "    </tr>\n",
       "    <tr>\n",
       "      <th>4</th>\n",
       "      <td>Kayla Sellers</td>\n",
       "      <td>28</td>\n",
       "      <td>Female</td>\n",
       "      <td>4.419793</td>\n",
       "      <td>90</td>\n",
       "      <td>95</td>\n",
       "      <td>48</td>\n",
       "      <td>83</td>\n",
       "      <td>True</td>\n",
       "      <td>Low</td>\n",
       "      <td>226</td>\n",
       "    </tr>\n",
       "  </tbody>\n",
       "</table>\n",
       "</div>"
      ],
      "text/plain": [
       "                Name  Age  Gender  Hours_Studied   IQ  Physics_Marks  \\\n",
       "0       Jason Vargas   19    Male       8.140821   92             87   \n",
       "1     Sandra Wiggins   35  Female       9.825626  112             86   \n",
       "2        Julia Olsen   33    Male       8.835372  131             87   \n",
       "3  Robert Pennington   33    Male       2.482483  138             70   \n",
       "4      Kayla Sellers   28  Female       4.419793   90             95   \n",
       "\n",
       "   Math_Marks  Chemistry_Marks  Has_Part_Time_Job Study_Hours_Group  \\\n",
       "0          43               85               True              High   \n",
       "1          81               54              False              High   \n",
       "2          52               57               True              High   \n",
       "3          86               83              False               Low   \n",
       "4          48               83               True               Low   \n",
       "\n",
       "   Total_Marks  \n",
       "0          215  \n",
       "1          221  \n",
       "2          196  \n",
       "3          239  \n",
       "4          226  "
      ]
     },
     "execution_count": 25,
     "metadata": {},
     "output_type": "execute_result"
    }
   ],
   "source": [
    "data.head()\n"
   ]
  },
  {
   "cell_type": "markdown",
   "id": "a5f5be68-488d-4250-ac4f-2e6aea6a8752",
   "metadata": {},
   "source": [
    "### Column Added"
   ]
  },
  {
   "cell_type": "code",
   "execution_count": 26,
   "id": "e755cd7a-d41a-4ea4-8bb0-4107012188e4",
   "metadata": {},
   "outputs": [
    {
     "data": {
      "text/plain": [
       "Name                 0\n",
       "Age                  0\n",
       "Gender               0\n",
       "Hours_Studied        0\n",
       "IQ                   0\n",
       "Physics_Marks        0\n",
       "Math_Marks           0\n",
       "Chemistry_Marks      0\n",
       "Has_Part_Time_Job    0\n",
       "Study_Hours_Group    0\n",
       "Total_Marks          0\n",
       "dtype: int64"
      ]
     },
     "execution_count": 26,
     "metadata": {},
     "output_type": "execute_result"
    }
   ],
   "source": [
    "data.isnull().sum()"
   ]
  },
  {
   "cell_type": "markdown",
   "id": "d6816c5e-eaf3-45cc-b7e3-18d971bf8856",
   "metadata": {},
   "source": [
    "### No null values present here so we can move on without cleaning the data as data has nothing missing and is aldready cleaned and structured."
   ]
  },
  {
   "cell_type": "markdown",
   "id": "e30f368e-3a36-4650-b961-a9fbeeb9b78f",
   "metadata": {},
   "source": [
    "## Data Analysis"
   ]
  },
  {
   "cell_type": "code",
   "execution_count": 10,
   "id": "945ec634-0fee-4d05-aac0-0be2dde4fc07",
   "metadata": {},
   "outputs": [
    {
     "data": {
      "image/png": "[encoded data removed]",
      "text/plain": [
       "<Figure size 800x600 with 1 Axes>"
      ]
     },
     "metadata": {},
     "output_type": "display_data"
    }
   ],
   "source": [
    "gender_counts = data['Gender'].value_counts()\n",
    "plt.figure(figsize=(8, 6))\n",
    "gender_counts.plot(kind='bar', color=['blue', 'pink'])\n",
    "plt.title('Gender Distribution')\n",
    "plt.xlabel('Gender')\n",
    "plt.ylabel('Count')\n",
    "for i, count in enumerate(gender_counts):\n",
    "    plt.text(i, count + 1, str(count), ha='center', va='bottom', fontsize=12, fontweight='bold')\n",
    "plt.xticks(rotation=0) \n",
    "plt.show()"
   ]
  },
  {
   "cell_type": "markdown",
   "id": "f5bf391f-9f29-4536-83b8-eb7d10d1815a",
   "metadata": {},
   "source": [
    "### We can see that there not much difference only 46 boys are more than girls."
   ]
  },
  {
   "cell_type": "code",
   "execution_count": 12,
   "id": "1cb39657-2e93-4610-9601-727a6ff38d3f",
   "metadata": {},
   "outputs": [
    {
     "data": {
      "image/png": "[encoded data removed]",
      "text/plain": [
       "<Figure size 800x600 with 1 Axes>"
      ]
     },
     "metadata": {},
     "output_type": "display_data"
    }
   ],
   "source": [
    "gender_hours = data.groupby('Gender')['Hours_Studied'].sum()\n",
    "plt.figure(figsize=(8, 6))\n",
    "gender_hours.plot(kind='bar', color=['blue', 'pink'])\n",
    "plt.title('Total Hours Studied by Gender')\n",
    "plt.xlabel('Gender')\n",
    "plt.ylabel('Total Hours Studied')\n",
    "for i, count in enumerate(gender_hours):\n",
    "    plt.text(i, count + 1, str(count), ha='center', va='bottom', fontsize=12, fontweight='bold')\n",
    "plt.xticks(rotation=0)\n",
    "plt.show()"
   ]
  },
  {
   "cell_type": "markdown",
   "id": "137200b2-4078-49d7-8022-252b6293ef2d",
   "metadata": {},
   "source": [
    "### We can see boys have a bit more total study hours than compared to girls."
   ]
  },
  {
   "cell_type": "code",
   "execution_count": 32,
   "id": "2cbba37d-68d1-4aa8-a3b8-3564ab59989c",
   "metadata": {},
   "outputs": [
    {
     "name": "stdout",
     "output_type": "stream",
     "text": [
      "Mean Study Hours for males: 5.528404185522009\n",
      "Mean Study Hours for females: 5.470683941456675\n"
     ]
    }
   ],
   "source": [
    "male_mean_hourstudy = data[data['Gender'] == 'Male']['Hours_Studied'].mean()\n",
    "female_mean_hourstudy = data[data['Gender'] == 'Female']['Hours_Studied'].mean()\n",
    "print(\"Mean Study Hours for males:\", male_mean_hourstudy)\n",
    "print(\"Mean Study Hours for females:\", female_mean_hourstudy)"
   ]
  },
  {
   "cell_type": "markdown",
   "id": "46063f14-bec4-4782-af8a-7761f6ddf32b",
   "metadata": {},
   "source": [
    "### Average study hours for boys and girls are almost same with boys having slightly greater."
   ]
  },
  {
   "cell_type": "code",
   "execution_count": 14,
   "id": "cdb55fcf-8f06-4942-82f2-f3c4274e81f8",
   "metadata": {},
   "outputs": [
    {
     "name": "stdout",
     "output_type": "stream",
     "text": [
      "Mean IQ for males: 114.97416229309648\n",
      "Mean IQ for females: 114.85731272294888\n"
     ]
    }
   ],
   "source": [
    "male_mean_iq = data[data['Gender'] == 'Male']['IQ'].mean()\n",
    "female_mean_iq = data[data['Gender'] == 'Female']['IQ'].mean()\n",
    "print(\"Mean IQ for males:\", male_mean_iq)\n",
    "print(\"Mean IQ for females:\", female_mean_iq)"
   ]
  },
  {
   "cell_type": "markdown",
   "id": "5d99233f-b551-41e1-b366-5f23b53bc0ed",
   "metadata": {},
   "source": [
    "### Average IQ for both are almost equal."
   ]
  },
  {
   "cell_type": "code",
   "execution_count": 19,
   "id": "274cf397-5d66-48a3-82e9-4cff1643ece0",
   "metadata": {},
   "outputs": [
    {
     "data": {
      "image/png": "[encoded data removed]",
      "text/plain": [
       "<Figure size 640x480 with 1 Axes>"
      ]
     },
     "metadata": {},
     "output_type": "display_data"
    }
   ],
   "source": [
    "group_counts = data.groupby(['Study_Hours_Group', 'Gender']).size().unstack(fill_value=0)\n",
    "group_counts.plot(kind='bar', stacked=False)\n",
    "plt.xlabel('Gender')\n",
    "plt.ylabel('Count')\n",
    "plt.title('Gender Distribution by Study Hour Group')\n",
    "plt.legend(title='Group', loc='upper right')\n",
    "plt.show()"
   ]
  },
  {
   "cell_type": "markdown",
   "id": "5599b011-56ba-401a-b936-10edb1177d69",
   "metadata": {},
   "source": [
    "### We can see there are more students in high study hour grouo compared to low also we can see there are more female in low study hour group then male."
   ]
  },
  {
   "cell_type": "code",
   "execution_count": 33,
   "id": "195bb81d-e980-4da9-b3a0-ceb26b156bcf",
   "metadata": {},
   "outputs": [
    {
     "data": {
      "image/png": "[encoded data removed]",
      "text/plain": [
       "<Figure size 640x480 with 1 Axes>"
      ]
     },
     "metadata": {},
     "output_type": "display_data"
    }
   ],
   "source": [
    "gender_counts = data.groupby('Gender')['Has_Part_Time_Job'].sum()\n",
    "x=gender_counts.plot(kind='bar', color=['pink', 'blue'])\n",
    "plt.xlabel('Gender')\n",
    "plt.ylabel('Count')\n",
    "plt.title('Part Time Job Distribution by Gender')\n",
    "for i, count in enumerate(gender_counts):\n",
    "    x.text(i, count, str(count), ha='center', va='bottom')\n",
    "plt.xticks(rotation=0)\n",
    "plt.show()"
   ]
  },
  {
   "cell_type": "markdown",
   "id": "0ad8baab-c766-4963-880f-f1b247586ae9",
   "metadata": {},
   "source": [
    "### Here we can see only 5 more male have part time job then female so they have almost same number of people."
   ]
  },
  {
   "cell_type": "code",
   "execution_count": 27,
   "id": "e15f8715-8361-43f4-b491-672c17985ca6",
   "metadata": {},
   "outputs": [
    {
     "name": "stdout",
     "output_type": "stream",
     "text": [
      "Gender\n",
      "Female    209.574316\n",
      "Male      210.283811\n",
      "Name: Total_Marks, dtype: float64\n"
     ]
    }
   ],
   "source": [
    "average_marks_by_gender = data.groupby('Gender')['Total_Marks'].mean()\n",
    "print(average_marks_by_gender)"
   ]
  },
  {
   "cell_type": "markdown",
   "id": "ae3493e6-aaea-4e99-8c66-853b0039ec17",
   "metadata": {},
   "source": [
    "### Average total marks of male are more than female but by very less so here also they have almost equal value."
   ]
  },
  {
   "cell_type": "markdown",
   "id": "e19a80fa-a182-437c-931b-e8111461f516",
   "metadata": {},
   "source": [
    "## Summary\n",
    "after analysis it feels that the values are almost same in every field for male and female but the difference is that male were intially greater by 64 so it is making difference in average values if we make equal number of male and female thnen we can get very near values and females as winners in some categories. So both are equal in terms of study and part time job."
   ]
  },
  {
   "cell_type": "markdown",
   "id": "52f5ca4e-f769-4148-b72f-485ce6d3ead5",
   "metadata": {},
   "source": [
    "## Made By -\n",
    "Name - Gruhit Kaneriya , Roll no. - RA2211003010041"
   ]
  },
  {
   "cell_type": "code",
   "execution_count": null,
   "id": "a6743057-854d-4f4f-9840-39ee5e8bd3e8",
   "metadata": {},
   "outputs": [],
   "source": []
  }
 ],
 "metadata": {
  "kernelspec": {
   "display_name": "Python 3 (ipykernel)",
   "language": "python",
   "name": "python3"
  },
  "language_info": {
   "codemirror_mode": {
    "name": "ipython",
    "version": 3
   },
   "file_extension": ".py",
   "mimetype": "text/x-python",
   "name": "python",
   "nbconvert_exporter": "python",
   "pygments_lexer": "ipython3",
   "version": "3.11.1"
  }
 },
 "nbformat": 4,
 "nbformat_minor": 5
}
